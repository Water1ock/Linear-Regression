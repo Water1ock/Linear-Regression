{
 "cells": [
  {
   "cell_type": "markdown",
   "metadata": {},
   "source": [
    "# Reading dataset\n",
    "In the below cell, the given dataset file is read into the jupyter notebook and lists of all the input parameters (age, bmi etc) and output parameter (charges) is created. The input parameters are normalized through the min-max normalization technique. This notebook has conducted linear regression only once after shuffling the given dataset. 20 models have been generated in the .py files attached along with this file. The purpose of creating this notebook is to document the approach taken by us in an easy to read manner.  "
   ]
  },
  {
   "cell_type": "code",
   "execution_count": 158,
   "metadata": {},
   "outputs": [],
   "source": [
    "import numpy as np\n",
    "import math\n",
    "age=[]\n",
    "bmi=[]\n",
    "children=[]\n",
    "charges=[]\n",
    "one=[]\n",
    "count=0\n",
    "f = open('insurance.txt', 'r') #given file is read into the notebook\n",
    "\n",
    "#below code stores all of the observations available to us through the input file into lists.\n",
    "for i in f:\n",
    "    if count>0:\n",
    "        words = i.split(',')\n",
    "        one.append(1)\n",
    "        age.append(int(words[0]))\n",
    "        bmi.append(float(words[1]))\n",
    "        children.append(int(words[2]))\n",
    "        charges.append(float(words[3]))\n",
    "    count+=1\n",
    "\n",
    "#Below code stores the minimum and maximum values of the observations for using the min-max normalization technique\n",
    "age_max=max(age)\n",
    "age_min=min(age)\n",
    "bmi_max=max(bmi)\n",
    "bmi_min=min(bmi)\n",
    "children_max=max(children)\n",
    "children_min=min(children)\n",
    "\n",
    "\n",
    "for x in range(len(age)):\n",
    "    age[x] = (age[x]-age_min)/(age_max-age_min) #normalizing data of age column\n",
    "for x in range(len(bmi)):\n",
    "    bmi[x]= (bmi[x]-bmi_min)/(bmi_max-bmi_min) #normalizing data of bmi column\n",
    "for x in range(len(children)):\n",
    "    children[x]= (children[x]-children_min)/(children_max-children_min) #normalizing data of no. of children column"
   ]
  },
  {
   "cell_type": "code",
   "execution_count": 159,
   "metadata": {},
   "outputs": [],
   "source": [
    "q = np.array([one, age, bmi, children, charges])\n",
    "q = np.transpose(q)\n",
    "np.random.shuffle(q) #this line shuffles the dataset as a preprocessing measure\n",
    "w = q\n",
    "w = np.delete(w, 4, axis=1)\n",
    "Data = np.asmatrix(q)\n",
    "#Data contains all input parameters along with the output in order\n",
    "Data_transpose = Data.transpose()\n",
    "Y = np.delete(Data, [0,1,2,3], axis=1)\n",
    "#Y only contains the output\n",
    "X = np.asmatrix(w)\n",
    "#X only contains the input parameters\n",
    "train_count = math.floor(count*0.7)\n",
    "test_count = count - train_count\n",
    "Y_train, Y_test = np.split(Y, [train_count])\n",
    "X_train, X_test = np.split(X, [train_count])\n",
    "#X_train and Y_train consist of 70% of the datapoints and are used for training the regression models\n",
    "#X_test and Y_test contain 30% of the datapoints upon which the regression models are tested on"
   ]
  },
  {
   "cell_type": "markdown",
   "metadata": {},
   "source": [
    "# Linear Regression using Normal Equation"
   ]
  },
  {
   "cell_type": "code",
   "execution_count": 160,
   "metadata": {},
   "outputs": [
    {
     "name": "stdout",
     "output_type": "stream",
     "text": [
      "[[ 2674.62350305]\n",
      " [10007.37501889]\n",
      " [13505.38112268]\n",
      " [ 2002.04152602]]\n"
     ]
    }
   ],
   "source": [
    "X_train_transpose = X_train.transpose()\n",
    "Mult = np.matmul(X_train_transpose, X_train)\n",
    "Multinv=np.linalg.inv(np.matrix(Mult))\n",
    "Multinv = np.asmatrix(Multinv)\n",
    "Product = np.matmul(Multinv, X_train_transpose)\n",
    "Result = np.matmul(Product, Y_train)\n",
    "#Result is the matrix containing the parameters which are optimized by linear regression\n",
    "Y_bar_test = np.matmul(X_test, Result)\n",
    "Y_bar_train = np.matmul(X_train, Result)\n",
    "print(Result)\n",
    "#The normal equation which has been implemented in this codeblock is:\n",
    "# Theta(Result) = ((X^T)*X)^-1 * ((X^T)*Y)\n",
    "#Here, X^T = X transpose"
   ]
  },
  {
   "cell_type": "code",
   "execution_count": 161,
   "metadata": {},
   "outputs": [
    {
     "name": "stdout",
     "output_type": "stream",
     "text": [
      "RMSE of testing data = 11753.20328666585\n",
      "RMSE of training data = 11186.655617441813\n"
     ]
    }
   ],
   "source": [
    "Error_test = Y_test-Y_bar_test #Error matrix of testing data\n",
    "Error_train = Y_train-Y_bar_train #Error matrix of training data\n",
    "rmse_train=0\n",
    "rmse_test=0\n",
    "for i in Error_test:\n",
    "    rmse_test+=i*i\n",
    "for i in Error_train:\n",
    "    rmse_train+=i*i\n",
    "rmse_train = rmse_train/train_count\n",
    "rmse_train = math.sqrt(rmse_train)\n",
    "rmse_test = rmse_test/test_count\n",
    "rmse_test = math.sqrt(rmse_test)\n",
    "print('RMSE of testing data = ' + str(rmse_test))\n",
    "print('RMSE of training data = ' + str(rmse_train))\n",
    "#RMSE is the root mean square value. In this codeblock, the RMSE values for the training dataset\n",
    "#and the testing dataset are calculated"
   ]
  },
  {
   "cell_type": "markdown",
   "metadata": {},
   "source": [
    "# Linear Regression using Gradient Descent\n",
    "\n",
    "Linear Regression has been done through the gradient descent algorithm in the below cells. The algorithm was run on the training data, and using the theta values thus calculated, a plot was made between the cost function of the testing data (cost function obtained by using the theta values calculated) and the epochs. The RMSE errors of both the training and the testing data have been given as well. The cost function values for the testing data after each 50 consecutive iterations has been printed as well. The algorithm has been run thrice, with learning rates 0.001, 0.01 and 0.1"
   ]
  },
  {
   "cell_type": "code",
   "execution_count": 162,
   "metadata": {},
   "outputs": [],
   "source": [
    "#A function to calculate the cost function for the given values is written in this cell\n",
    "#The value of theta which minimizes this cost function is the best fit line for the given data\n",
    "def cost_funct(theta, X, Y):\n",
    "    m = test_count\n",
    "    predictions = X.dot(theta)\n",
    "    cost = (1/(2*m)) * np.sum(np.square(predictions-Y))\n",
    "    return cost"
   ]
  },
  {
   "cell_type": "code",
   "execution_count": 163,
   "metadata": {},
   "outputs": [],
   "source": [
    "#A function to implement the gradient descent algorithm has been written in this cell\n",
    "#The algorithm runs on the training data and optimizes the value of theta\n",
    "def grad_descent(X, Y, theta, alpha, iterations):\n",
    "    m = X.shape[0]\n",
    "    for it in range(iterations):\n",
    "        prediction = np.dot(X, theta)\n",
    "        #prediction is the Y bar matrix, or matrix containing predicted values of output\n",
    "        theta = theta - (np.dot(X.transpose(), prediction-Y) * (1/m) * alpha)\n",
    "        #theta is the matrix containing the parameters which are optimized by linear regression\n",
    "        theta_history.append(theta) #theta_history stores all the values of theta obtained after every iteration\n",
    "    return theta\n",
    "initial = np.array([1, 1, 1, 1])\n",
    "theta_history = []\n",
    "theta = np.asmatrix(initial)\n",
    "#input parameters are initialized to 1 so that they can be optimized through gradient descent \n",
    "theta = theta.transpose()\n",
    "theta = grad_descent(X_train, Y_train, theta, 0.001, 2000)"
   ]
  },
  {
   "cell_type": "code",
   "execution_count": 164,
   "metadata": {},
   "outputs": [
    {
     "data": {
      "image/png": "[encoded data removed]",
      "text/plain": [
       "<Figure size 432x288 with 1 Axes>"
      ]
     },
     "metadata": {
      "needs_background": "light"
     },
     "output_type": "display_data"
    }
   ],
   "source": [
    "import matplotlib.pyplot as plt\n",
    "cost_history=[]\n",
    "for i in theta_history:\n",
    "    cost_history.append(cost_funct(i, X_test, Y_test))\n",
    "plt.plot(cost_history)\n",
    "plt.show()\n",
    "#Plot of cost function of testing data wrt. no. of iterations where learning rate is 0.001"
   ]
  },
  {
   "cell_type": "code",
   "execution_count": 165,
   "metadata": {},
   "outputs": [
    {
     "name": "stdout",
     "output_type": "stream",
     "text": [
      "Cost function value after each 50 consecutive iterations: \n",
      "[160579386.8475562, 149410586.5374941, 139693711.6473089, 131237127.12175208, 123874677.7382764, 117462287.22993901, 111875012.2519263, 107004490.29534793, 102756728.8094884, 99050189.85816424, 95814130.75370787, 92987166.4102395, 90516023.74615112, 88354462.43924344, 86462339.7791087, 84804800.34148063, 83351573.79015467, 82076366.34722081, 80956333.40807231, 79971622.45408112, 79104976.86770685, 78341392.5122182, 77667820.02721038, 77072906.73426221, 76546772.8639323, 76080817.52276717, 75667550.43173851, 75300445.99823296, 74973816.74337518, 74682703.50459108, 74422780.17815447, 74190271.06514506, 73981879.14296007, 73794723.80861793, 73626286.83420756, 73474365.44298503, 73337031.56027684, 73212596.41952933, 73099579.81315091, 72996683.37249036]\n"
     ]
    }
   ],
   "source": [
    "toprint=[]\n",
    "r=0\n",
    "for i in cost_history:\n",
    "    r+=1\n",
    "    if r%50==0:\n",
    "        toprint.append(i)\n",
    "print(\"Cost function value after each 50 consecutive iterations: \")\n",
    "print(toprint)"
   ]
  },
  {
   "cell_type": "code",
   "execution_count": 166,
   "metadata": {},
   "outputs": [
    {
     "name": "stdout",
     "output_type": "stream",
     "text": [
      "Minimum cost function on training data obtained: 152086762.15885678\n",
      "Minimum cost function on testing data obtained: 72996683.37249036\n",
      "RMSE of training dataset: 11423.624941514752\n",
      "RMSE of testing dataset: 12097.827903336976\n"
     ]
    }
   ],
   "source": [
    "train_error = cost_funct(theta, X_train, Y_train)\n",
    "test_error = cost_funct(theta, X_test, Y_test)\n",
    "print(\"Minimum cost function on training data obtained: \" + str(train_error))\n",
    "print(\"Minimum cost function on testing data obtained: \" + str(test_error))\n",
    "prediction_train = np.dot(X_train, theta)\n",
    "prediction_test = np.dot(X_test, theta)\n",
    "rmse_train_error = math.sqrt(np.mean(np.square(prediction_train-Y_train)))\n",
    "rmse_test_error = math.sqrt(np.mean(np.square(prediction_test-Y_test)))\n",
    "print(\"RMSE of training dataset: \" + str(rmse_train_error))\n",
    "print(\"RMSE of testing dataset: \" + str(rmse_test_error))"
   ]
  },
  {
   "cell_type": "code",
   "execution_count": 167,
   "metadata": {},
   "outputs": [],
   "source": [
    "theta = np.asmatrix(initial)\n",
    "#input parameters are initialized to 1 so that they can be optimized through gradient descent \n",
    "theta = theta.transpose()\n",
    "theta_history=[]\n",
    "theta = grad_descent(X_train, Y_train, theta, 0.01, 1000)"
   ]
  },
  {
   "cell_type": "code",
   "execution_count": 168,
   "metadata": {},
   "outputs": [
    {
     "data": {
      "image/png": "[encoded data removed]",
      "text/plain": [
       "<Figure size 432x288 with 1 Axes>"
      ]
     },
     "metadata": {
      "needs_background": "light"
     },
     "output_type": "display_data"
    }
   ],
   "source": [
    "cost_history=[]\n",
    "for i in theta_history:\n",
    "    cost_history.append(cost_funct(i, X_test, Y_test))\n",
    "plt.plot(cost_history)\n",
    "plt.show()\n",
    "#Plot of cost function of testing data wrt. no. of iterations where learning rate is 0.01"
   ]
  },
  {
   "cell_type": "code",
   "execution_count": 169,
   "metadata": {},
   "outputs": [
    {
     "name": "stdout",
     "output_type": "stream",
     "text": [
      "Cost function value after each 50 consecutive iterations: \n",
      "[98826288.80006549, 79854281.22888793, 74632629.90466051, 72975337.11847742, 72320314.1795671, 71983635.39314294, 71764761.15539075, 71597116.07432249, 71455477.67345926, 71329129.11359967, 71213089.17339116, 71104859.91430137, 71003085.31304981, 70906956.2163065, 70815934.52877265, 70729622.0578403, 70647697.08498392, 70569883.21188346, 70495933.74136415, 70425623.58796272]\n"
     ]
    }
   ],
   "source": [
    "toprint=[]\n",
    "r=0\n",
    "for i in cost_history:\n",
    "    r+=1\n",
    "    if r%50==0:\n",
    "        toprint.append(i)\n",
    "print(\"Cost function value after each 50 consecutive iterations: \")\n",
    "print(toprint)"
   ]
  },
  {
   "cell_type": "code",
   "execution_count": 170,
   "metadata": {},
   "outputs": [
    {
     "name": "stdout",
     "output_type": "stream",
     "text": [
      "Minimum cost function on training data obtained: 148735153.48816243\n",
      "Minimum cost function on testing data obtained: 70425623.58796272\n",
      "RMSE of training dataset: 11297.04976572496\n",
      "RMSE of testing dataset: 11882.865696829316\n"
     ]
    }
   ],
   "source": [
    "train_error = cost_funct(theta, X_train, Y_train)\n",
    "test_error = cost_funct(theta, X_test, Y_test)\n",
    "print(\"Minimum cost function on training data obtained: \" + str(train_error))\n",
    "print(\"Minimum cost function on testing data obtained: \" + str(test_error))\n",
    "prediction_train = np.dot(X_train, theta)\n",
    "prediction_test = np.dot(X_test, theta)\n",
    "rmse_train_error = math.sqrt(np.mean(np.square(prediction_train-Y_train)))\n",
    "rmse_test_error = math.sqrt(np.mean(np.square(prediction_test-Y_test)))\n",
    "print(\"RMSE of training dataset: \" + str(rmse_train_error))\n",
    "print(\"RMSE of testing dataset: \" + str(rmse_test_error))"
   ]
  },
  {
   "cell_type": "code",
   "execution_count": 171,
   "metadata": {},
   "outputs": [],
   "source": [
    "theta = np.asmatrix(initial)\n",
    "#input parameters are initialized to 1 so that they can be optimized through gradient descent \n",
    "theta = theta.transpose()\n",
    "theta_history=[]\n",
    "theta = grad_descent(X_train, Y_train, theta, 0.1, 1000)"
   ]
  },
  {
   "cell_type": "code",
   "execution_count": 172,
   "metadata": {},
   "outputs": [
    {
     "data": {
      "image/png": "[encoded data removed]",
      "text/plain": [
       "<Figure size 432x288 with 1 Axes>"
      ]
     },
     "metadata": {
      "needs_background": "light"
     },
     "output_type": "display_data"
    }
   ],
   "source": [
    "cost_history=[]\n",
    "for i in theta_history:\n",
    "    cost_history.append(cost_funct(i, X_test, Y_test))\n",
    "plt.plot(cost_history)\n",
    "plt.show()\n",
    "#Plot of cost function of testing data wrt. no. of iterations where learning rate is 0.1"
   ]
  },
  {
   "cell_type": "code",
   "execution_count": 173,
   "metadata": {},
   "outputs": [
    {
     "name": "stdout",
     "output_type": "stream",
     "text": [
      "Cost function value after each 50 consecutive iterations: \n",
      "[71322666.32784024, 70421595.10474183, 69879563.99499774, 69540065.23667924, 69321721.08476523, 69179033.42848863, 69085332.82276167, 69024255.10684462, 68985340.31234945, 68961670.65325, 68948546.86724882, 68942712.29587995, 68941877.80441956, 68944419.22676504, 68949178.10069552, 68955326.77202453, 68962275.04997396, 68969604.48971744, 68977021.49292727, 68984323.47782592]\n"
     ]
    }
   ],
   "source": [
    "toprint=[]\n",
    "r=0\n",
    "for i in cost_history:\n",
    "    r+=1\n",
    "    if r%50==0:\n",
    "        toprint.append(i)\n",
    "print(\"Cost function value after each 50 consecutive iterations: \")\n",
    "print(toprint)"
   ]
  },
  {
   "cell_type": "code",
   "execution_count": 174,
   "metadata": {},
   "outputs": [
    {
     "name": "stdout",
     "output_type": "stream",
     "text": [
      "Minimum cost function on training data obtained: 145880671.2836057\n",
      "Minimum cost function on testing data obtained: 68984323.47782592\n",
      "RMSE of training dataset: 11188.11973353187\n",
      "RMSE of testing dataset: 11760.642347226689\n"
     ]
    }
   ],
   "source": [
    "train_error = cost_funct(theta, X_train, Y_train)\n",
    "test_error = cost_funct(theta, X_test, Y_test)\n",
    "print(\"Minimum cost function on training data obtained: \" + str(train_error))\n",
    "print(\"Minimum cost function on testing data obtained: \" + str(test_error))\n",
    "prediction_train = np.dot(X_train, theta)\n",
    "prediction_test = np.dot(X_test, theta)\n",
    "rmse_train_error = math.sqrt(np.mean(np.square(prediction_train-Y_train)))\n",
    "rmse_test_error = math.sqrt(np.mean(np.square(prediction_test-Y_test)))\n",
    "print(\"RMSE of training dataset: \" + str(rmse_train_error))\n",
    "print(\"RMSE of testing dataset: \" + str(rmse_test_error))"
   ]
  },
  {
   "cell_type": "markdown",
   "metadata": {},
   "source": [
    "# Linear Regression using Stochastic Gradient Descent"
   ]
  },
  {
   "cell_type": "code",
   "execution_count": 175,
   "metadata": {},
   "outputs": [],
   "source": [
    "def stochastic_grad_descent(X, Y, theta, alpha, iterations):\n",
    "    m = X.shape[0]\n",
    "    cost_history = []\n",
    "    for it in range(iterations):\n",
    "        cost = 0.0\n",
    "        for i in range(m):\n",
    "            rand_ind = np.random.randint(0,m)\n",
    "            X_i = X[rand_ind]\n",
    "            Y_i = Y[rand_ind]\n",
    "            prediction = np.dot(X_i, theta)\n",
    "            theta = theta - ((1/m)*(alpha)*(X_i.transpose().dot((prediction-Y_i))))\n",
    "            cost+= cost_funct(theta, X_i, Y_i)\n",
    "        theta_history.append(theta)\n",
    "        cost_history.append(cost)\n",
    "    return theta, cost_history"
   ]
  },
  {
   "cell_type": "code",
   "execution_count": 187,
   "metadata": {},
   "outputs": [],
   "source": [
    "cost_history = []\n",
    "theta = np.asmatrix(initial)\n",
    "theta = theta.transpose()\n",
    "theta_history = []\n",
    "theta, cost_history = stochastic_grad_descent(X_train, Y_train, theta, 0.001, 200)"
   ]
  },
  {
   "cell_type": "code",
   "execution_count": 188,
   "metadata": {},
   "outputs": [
    {
     "data": {
      "image/png": "[encoded data removed]",
      "text/plain": [
       "<Figure size 432x288 with 1 Axes>"
      ]
     },
     "metadata": {
      "needs_background": "light"
     },
     "output_type": "display_data"
    }
   ],
   "source": [
    "cost_history = []\n",
    "for i in theta_history:\n",
    "    cost_history.append(cost_funct(i, X_test, Y_test))\n",
    "plt.plot(cost_history)\n",
    "plt.show()\n",
    "#Plot of cost function of testing data wrt. no. of iterations where learning rate is 0.001"
   ]
  },
  {
   "cell_type": "code",
   "execution_count": 189,
   "metadata": {},
   "outputs": [
    {
     "name": "stdout",
     "output_type": "stream",
     "text": [
      "Cost function value after each 50 consecutive iterations: \n",
      "[160555157.42297673, 149410950.48075363, 139719375.40007582, 131323153.38964623]\n"
     ]
    }
   ],
   "source": [
    "toprint=[]\n",
    "r=0\n",
    "for i in cost_history:\n",
    "    r+=1\n",
    "    if r%50==0:\n",
    "        toprint.append(i)\n",
    "print(\"Cost function value after each 50 consecutive iterations: \")\n",
    "print(toprint)"
   ]
  },
  {
   "cell_type": "code",
   "execution_count": 190,
   "metadata": {},
   "outputs": [
    {
     "name": "stdout",
     "output_type": "stream",
     "text": [
      "Cost function value of training data after 200 SGD iterations = 271212181.2719587\n",
      "Cost function value of testing data after 200 SGD iterations = 271212181.2719587\n",
      "RMSE of training data = 15255.021523716903\n",
      "RMSE of testing data = 16226.56109902643\n"
     ]
    }
   ],
   "source": [
    "train_error = cost_funct(theta, X_train, Y_train)\n",
    "test_error = cost_funct(theta, X_train, Y_train)\n",
    "prediction_train = np.dot(X_train, theta)\n",
    "prediction_test = np.dot(X_test, theta)\n",
    "rmse_train = math.sqrt(np.mean(np.square(prediction_train-Y_train)))\n",
    "rmse_test = math.sqrt(np.mean(np.square(prediction_test-Y_test)))\n",
    "print(\"Cost function value of training data after 200 SGD iterations = \" + str(train_error))\n",
    "print(\"Cost function value of testing data after 200 SGD iterations = \" + str(test_error))\n",
    "print(\"RMSE of training data = \" + str(rmse_train))\n",
    "print(\"RMSE of testing data = \" + str(rmse_test))"
   ]
  },
  {
   "cell_type": "code",
   "execution_count": 179,
   "metadata": {},
   "outputs": [],
   "source": [
    "cost_history = []\n",
    "theta = np.asmatrix(initial)\n",
    "theta = theta.transpose()\n",
    "theta_history = []\n",
    "theta, cost_history = stochastic_grad_descent(X_train, Y_train, theta, 0.01, 200)"
   ]
  },
  {
   "cell_type": "code",
   "execution_count": 180,
   "metadata": {},
   "outputs": [
    {
     "data": {
      "image/png": "[encoded data removed]",
      "text/plain": [
       "<Figure size 432x288 with 1 Axes>"
      ]
     },
     "metadata": {
      "needs_background": "light"
     },
     "output_type": "display_data"
    }
   ],
   "source": [
    "cost_history = []\n",
    "for i in theta_history:\n",
    "    cost_history.append(cost_funct(i, X_test, Y_test))\n",
    "plt.plot(cost_history)\n",
    "plt.show()\n",
    "#Plot of cost function of testing data wrt. no. of iterations where learning rate is 0.01"
   ]
  },
  {
   "cell_type": "code",
   "execution_count": 181,
   "metadata": {},
   "outputs": [
    {
     "name": "stdout",
     "output_type": "stream",
     "text": [
      "Cost function value after each 50 consecutive iterations: \n",
      "[99334336.94495022, 79982535.11142287, 74600982.26057652, 73024839.64470568]\n"
     ]
    }
   ],
   "source": [
    "toprint=[]\n",
    "r=0\n",
    "for i in cost_history:\n",
    "    r+=1\n",
    "    if r%50==0:\n",
    "        toprint.append(i)\n",
    "print(\"Cost function value after each 50 consecutive iterations: \")\n",
    "print(toprint)"
   ]
  },
  {
   "cell_type": "code",
   "execution_count": 182,
   "metadata": {},
   "outputs": [
    {
     "name": "stdout",
     "output_type": "stream",
     "text": [
      "Cost function value of training data after 200 SGD iterations = 152124023.12334758\n",
      "Cost function value of testing data after 200 SGD iterations = 152124023.12334758\n",
      "RMSE of training data = 11425.024238893668\n",
      "RMSE of testing data = 12100.160864776746\n"
     ]
    }
   ],
   "source": [
    "train_error = cost_funct(theta, X_train, Y_train)\n",
    "test_error = cost_funct(theta, X_train, Y_train)\n",
    "prediction_train = np.dot(X_train, theta)\n",
    "prediction_test = np.dot(X_test, theta)\n",
    "rmse_train = math.sqrt(np.mean(np.square(prediction_train-Y_train)))\n",
    "rmse_test = math.sqrt(np.mean(np.square(prediction_test-Y_test)))\n",
    "print(\"Cost function value of training data after 200 SGD iterations = \" + str(train_error))\n",
    "print(\"Cost function value of testing data after 200 SGD iterations = \" + str(test_error))\n",
    "print(\"RMSE of training data = \" + str(rmse_train))\n",
    "print(\"RMSE of testing data = \" + str(rmse_test))"
   ]
  },
  {
   "cell_type": "code",
   "execution_count": 191,
   "metadata": {},
   "outputs": [],
   "source": [
    "cost_history = []\n",
    "theta = np.asmatrix(initial)\n",
    "theta = theta.transpose()\n",
    "theta_history = []\n",
    "theta, cost_history = stochastic_grad_descent(X_train, Y_train, theta, 0.1, 200)"
   ]
  },
  {
   "cell_type": "code",
   "execution_count": 192,
   "metadata": {},
   "outputs": [
    {
     "data": {
      "image/png": "[encoded data removed]",
      "text/plain": [
       "<Figure size 432x288 with 1 Axes>"
      ]
     },
     "metadata": {
      "needs_background": "light"
     },
     "output_type": "display_data"
    }
   ],
   "source": [
    "cost_history = []\n",
    "for i in theta_history:\n",
    "    cost_history.append(cost_funct(i, X_test, Y_test))\n",
    "plt.plot(cost_history)\n",
    "plt.show()\n",
    "#Plot of cost function of testing data wrt. no. of iterations where learning rate is 0.1"
   ]
  },
  {
   "cell_type": "code",
   "execution_count": 193,
   "metadata": {},
   "outputs": [
    {
     "name": "stdout",
     "output_type": "stream",
     "text": [
      "Cost function value after each 50 consecutive iterations: \n",
      "[71348473.16605449, 70552829.69369188, 69856702.08441883, 69409585.87504074]\n"
     ]
    }
   ],
   "source": [
    "toprint=[]\n",
    "r=0\n",
    "for i in cost_history:\n",
    "    r+=1\n",
    "    if r%50==0:\n",
    "        toprint.append(i)\n",
    "print(\"Cost function value after each 50 consecutive iterations: \")\n",
    "print(toprint)"
   ]
  },
  {
   "cell_type": "code",
   "execution_count": 194,
   "metadata": {},
   "outputs": [
    {
     "name": "stdout",
     "output_type": "stream",
     "text": [
      "Cost function value of training data after 200 SGD iterations = 147406422.88310593\n",
      "Cost function value of testing data after 200 SGD iterations = 147406422.88310593\n",
      "RMSE of training data = 11246.47526891891\n",
      "RMSE of testing data = 11796.836619334597\n"
     ]
    }
   ],
   "source": [
    "train_error = cost_funct(theta, X_train, Y_train)\n",
    "test_error = cost_funct(theta, X_train, Y_train)\n",
    "prediction_train = np.dot(X_train, theta)\n",
    "prediction_test = np.dot(X_test, theta)\n",
    "rmse_train = math.sqrt(np.mean(np.square(prediction_train-Y_train)))\n",
    "rmse_test = math.sqrt(np.mean(np.square(prediction_test-Y_test)))\n",
    "print(\"Cost function value of training data after 200 SGD iterations = \" + str(train_error))\n",
    "print(\"Cost function value of testing data after 200 SGD iterations = \" + str(test_error))\n",
    "print(\"RMSE of training data = \" + str(rmse_train))\n",
    "print(\"RMSE of testing data = \" + str(rmse_test))"
   ]
  }
 ],
 "metadata": {
  "kernelspec": {
   "display_name": "Python 3",
   "language": "python",
   "name": "python3"
  },
  "language_info": {
   "codemirror_mode": {
    "name": "ipython",
    "version": 3
   },
   "file_extension": ".py",
   "mimetype": "text/x-python",
   "name": "python",
   "nbconvert_exporter": "python",
   "pygments_lexer": "ipython3",
   "version": "3.7.3"
  }
 },
 "nbformat": 4,
 "nbformat_minor": 4
}
